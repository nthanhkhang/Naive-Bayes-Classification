{
 "cells": [
  {
   "cell_type": "code",
   "execution_count": 102,
   "metadata": {},
   "outputs": [],
   "source": [
    "import numpy as np\n",
    "import pandas as pd\n",
    "from sklearn.linear_model import LogisticRegression"
   ]
  },
  {
   "cell_type": "code",
   "execution_count": 103,
   "metadata": {},
   "outputs": [
    {
     "name": "stdout",
     "output_type": "stream",
     "text": [
      "Index(['5.1', '3.5', '1.4', '0.2', 'Iris-setosa'], dtype='object')\n",
      "   5.1  3.5  1.4  0.2  Iris-setosa\n",
      "0  4.9  3.0  1.4  0.2  Iris-setosa\n",
      "1  4.7  3.2  1.3  0.2  Iris-setosa\n",
      "2  4.6  3.1  1.5  0.2  Iris-setosa\n",
      "3  5.0  3.6  1.4  0.2  Iris-setosa\n",
      "4  5.4  3.9  1.7  0.4  Iris-setosa\n"
     ]
    }
   ],
   "source": [
    "# Hàm sử dụng thư viện iris.data\n",
    "file_name = 'iris.data'\n",
    "df = pd.read_csv(file_name)\n",
    "print(df.columns)\n",
    "print(df.head(5))"
   ]
  },
  {
   "cell_type": "code",
   "execution_count": 104,
   "metadata": {},
   "outputs": [
    {
     "name": "stdout",
     "output_type": "stream",
     "text": [
      "[[4.9 3.0 1.4 0.2 'Iris-setosa']\n",
      " [4.7 3.2 1.3 0.2 'Iris-setosa']\n",
      " [4.6 3.1 1.5 0.2 'Iris-setosa']\n",
      " [5.0 3.6 1.4 0.2 'Iris-setosa']\n",
      " [5.4 3.9 1.7 0.4 'Iris-setosa']]\n"
     ]
    }
   ],
   "source": [
    "a = df.values\n",
    "print(a[:5])"
   ]
  },
  {
   "cell_type": "code",
   "execution_count": 105,
   "metadata": {},
   "outputs": [
    {
     "name": "stdout",
     "output_type": "stream",
     "text": [
      "[[4.9 3.0 1.4 0.2]\n",
      " [4.7 3.2 1.3 0.2]\n",
      " [4.6 3.1 1.5 0.2]\n",
      " [5.0 3.6 1.4 0.2]\n",
      " [5.4 3.9 1.7 0.4]]\n",
      "[['Iris-setosa']\n",
      " ['Iris-setosa']\n",
      " ['Iris-setosa']\n",
      " ['Iris-setosa']\n",
      " ['Iris-setosa']]\n"
     ]
    }
   ],
   "source": [
    "X = a[:, [0, 1, 2, 3]]\n",
    "print(X[:5])\n",
    "y = a[:, [4]]\n",
    "print(y[:5])"
   ]
  },
  {
   "cell_type": "code",
   "execution_count": 106,
   "metadata": {},
   "outputs": [
    {
     "name": "stdout",
     "output_type": "stream",
     "text": [
      "[0 0 0 0 0 0 0 0 0 0 0 0 0 0 0 0 0 0 0 0 0 0 0 0 0 0 0 0 0 0 0 0 0 0 0 0 0\n",
      " 0 0 0 0 0 0 0 0 0 0 0 0 1 1 1 1 1 1 1 1 1 1 1 1 1 1 1 1 1 1 1 1 1 1 1 1 1\n",
      " 1 1 1 1 1 1 1 1 1 1 1 1 1 1 1 1 1 1 1 1 1 1 1 1 1 2 2 2 2 2 2 2 2 2 2 2 2\n",
      " 2 2 2 2 2 2 2 2 2 2 2 2 2 2 2 2 2 2 2 2 2 2 2 2 2 2 2 2 2 2 2 2 2 2 2 2 2\n",
      " 2]\n"
     ]
    },
    {
     "name": "stderr",
     "output_type": "stream",
     "text": [
      "C:\\Users\\nguyn\\anaconda3\\lib\\site-packages\\sklearn\\utils\\validation.py:73: DataConversionWarning: A column-vector y was passed when a 1d array was expected. Please change the shape of y to (n_samples, ), for example using ravel().\n",
      "  return f(**kwargs)\n"
     ]
    }
   ],
   "source": [
    "# Đổi phần tử sang từ 0-1\n",
    "from sklearn.preprocessing import LabelEncoder\n",
    "LE = LabelEncoder()\n",
    "y = LE.fit_transform(y)\n",
    "print(y)"
   ]
  },
  {
   "cell_type": "code",
   "execution_count": 107,
   "metadata": {},
   "outputs": [
    {
     "name": "stdout",
     "output_type": "stream",
     "text": [
      "149\n",
      "149\n",
      "[(array([4.9, 3.0, 1.4, 0.2], dtype=object), 0), (array([4.7, 3.2, 1.3, 0.2], dtype=object), 0), (array([4.6, 3.1, 1.5, 0.2], dtype=object), 0), (array([5.0, 3.6, 1.4, 0.2], dtype=object), 0), (array([5.4, 3.9, 1.7, 0.4], dtype=object), 0), (array([4.6, 3.4, 1.4, 0.3], dtype=object), 0), (array([5.0, 3.4, 1.5, 0.2], dtype=object), 0), (array([4.4, 2.9, 1.4, 0.2], dtype=object), 0), (array([4.9, 3.1, 1.5, 0.1], dtype=object), 0), (array([5.4, 3.7, 1.5, 0.2], dtype=object), 0), (array([4.8, 3.4, 1.6, 0.2], dtype=object), 0), (array([4.8, 3.0, 1.4, 0.1], dtype=object), 0), (array([4.3, 3.0, 1.1, 0.1], dtype=object), 0), (array([5.8, 4.0, 1.2, 0.2], dtype=object), 0), (array([5.7, 4.4, 1.5, 0.4], dtype=object), 0), (array([5.4, 3.9, 1.3, 0.4], dtype=object), 0), (array([5.1, 3.5, 1.4, 0.3], dtype=object), 0), (array([5.7, 3.8, 1.7, 0.3], dtype=object), 0), (array([5.1, 3.8, 1.5, 0.3], dtype=object), 0), (array([5.4, 3.4, 1.7, 0.2], dtype=object), 0), (array([5.1, 3.7, 1.5, 0.4], dtype=object), 0), (array([4.6, 3.6, 1.0, 0.2], dtype=object), 0), (array([5.1, 3.3, 1.7, 0.5], dtype=object), 0), (array([4.8, 3.4, 1.9, 0.2], dtype=object), 0), (array([5.0, 3.0, 1.6, 0.2], dtype=object), 0), (array([5.0, 3.4, 1.6, 0.4], dtype=object), 0), (array([5.2, 3.5, 1.5, 0.2], dtype=object), 0), (array([5.2, 3.4, 1.4, 0.2], dtype=object), 0), (array([4.7, 3.2, 1.6, 0.2], dtype=object), 0), (array([4.8, 3.1, 1.6, 0.2], dtype=object), 0), (array([5.4, 3.4, 1.5, 0.4], dtype=object), 0), (array([5.2, 4.1, 1.5, 0.1], dtype=object), 0), (array([5.5, 4.2, 1.4, 0.2], dtype=object), 0), (array([4.9, 3.1, 1.5, 0.1], dtype=object), 0), (array([5.0, 3.2, 1.2, 0.2], dtype=object), 0), (array([5.5, 3.5, 1.3, 0.2], dtype=object), 0), (array([4.9, 3.1, 1.5, 0.1], dtype=object), 0), (array([4.4, 3.0, 1.3, 0.2], dtype=object), 0), (array([5.1, 3.4, 1.5, 0.2], dtype=object), 0), (array([5.0, 3.5, 1.3, 0.3], dtype=object), 0), (array([4.5, 2.3, 1.3, 0.3], dtype=object), 0), (array([4.4, 3.2, 1.3, 0.2], dtype=object), 0), (array([5.0, 3.5, 1.6, 0.6], dtype=object), 0), (array([5.1, 3.8, 1.9, 0.4], dtype=object), 0), (array([4.8, 3.0, 1.4, 0.3], dtype=object), 0), (array([5.1, 3.8, 1.6, 0.2], dtype=object), 0), (array([4.6, 3.2, 1.4, 0.2], dtype=object), 0), (array([5.3, 3.7, 1.5, 0.2], dtype=object), 0), (array([5.0, 3.3, 1.4, 0.2], dtype=object), 0), (array([7.0, 3.2, 4.7, 1.4], dtype=object), 1), (array([6.4, 3.2, 4.5, 1.5], dtype=object), 1), (array([6.9, 3.1, 4.9, 1.5], dtype=object), 1), (array([5.5, 2.3, 4.0, 1.3], dtype=object), 1), (array([6.5, 2.8, 4.6, 1.5], dtype=object), 1), (array([5.7, 2.8, 4.5, 1.3], dtype=object), 1), (array([6.3, 3.3, 4.7, 1.6], dtype=object), 1), (array([4.9, 2.4, 3.3, 1.0], dtype=object), 1), (array([6.6, 2.9, 4.6, 1.3], dtype=object), 1), (array([5.2, 2.7, 3.9, 1.4], dtype=object), 1), (array([5.0, 2.0, 3.5, 1.0], dtype=object), 1), (array([5.9, 3.0, 4.2, 1.5], dtype=object), 1), (array([6.0, 2.2, 4.0, 1.0], dtype=object), 1), (array([6.1, 2.9, 4.7, 1.4], dtype=object), 1), (array([5.6, 2.9, 3.6, 1.3], dtype=object), 1), (array([6.7, 3.1, 4.4, 1.4], dtype=object), 1), (array([5.6, 3.0, 4.5, 1.5], dtype=object), 1), (array([5.8, 2.7, 4.1, 1.0], dtype=object), 1), (array([6.2, 2.2, 4.5, 1.5], dtype=object), 1), (array([5.6, 2.5, 3.9, 1.1], dtype=object), 1), (array([5.9, 3.2, 4.8, 1.8], dtype=object), 1), (array([6.1, 2.8, 4.0, 1.3], dtype=object), 1), (array([6.3, 2.5, 4.9, 1.5], dtype=object), 1), (array([6.1, 2.8, 4.7, 1.2], dtype=object), 1), (array([6.4, 2.9, 4.3, 1.3], dtype=object), 1), (array([6.6, 3.0, 4.4, 1.4], dtype=object), 1), (array([6.8, 2.8, 4.8, 1.4], dtype=object), 1), (array([6.7, 3.0, 5.0, 1.7], dtype=object), 1), (array([6.0, 2.9, 4.5, 1.5], dtype=object), 1), (array([5.7, 2.6, 3.5, 1.0], dtype=object), 1), (array([5.5, 2.4, 3.8, 1.1], dtype=object), 1), (array([5.5, 2.4, 3.7, 1.0], dtype=object), 1), (array([5.8, 2.7, 3.9, 1.2], dtype=object), 1), (array([6.0, 2.7, 5.1, 1.6], dtype=object), 1), (array([5.4, 3.0, 4.5, 1.5], dtype=object), 1), (array([6.0, 3.4, 4.5, 1.6], dtype=object), 1), (array([6.7, 3.1, 4.7, 1.5], dtype=object), 1), (array([6.3, 2.3, 4.4, 1.3], dtype=object), 1), (array([5.6, 3.0, 4.1, 1.3], dtype=object), 1), (array([5.5, 2.5, 4.0, 1.3], dtype=object), 1), (array([5.5, 2.6, 4.4, 1.2], dtype=object), 1), (array([6.1, 3.0, 4.6, 1.4], dtype=object), 1), (array([5.8, 2.6, 4.0, 1.2], dtype=object), 1), (array([5.0, 2.3, 3.3, 1.0], dtype=object), 1), (array([5.6, 2.7, 4.2, 1.3], dtype=object), 1), (array([5.7, 3.0, 4.2, 1.2], dtype=object), 1), (array([5.7, 2.9, 4.2, 1.3], dtype=object), 1), (array([6.2, 2.9, 4.3, 1.3], dtype=object), 1), (array([5.1, 2.5, 3.0, 1.1], dtype=object), 1), (array([5.7, 2.8, 4.1, 1.3], dtype=object), 1), (array([6.3, 3.3, 6.0, 2.5], dtype=object), 2), (array([5.8, 2.7, 5.1, 1.9], dtype=object), 2), (array([7.1, 3.0, 5.9, 2.1], dtype=object), 2), (array([6.3, 2.9, 5.6, 1.8], dtype=object), 2), (array([6.5, 3.0, 5.8, 2.2], dtype=object), 2), (array([7.6, 3.0, 6.6, 2.1], dtype=object), 2), (array([4.9, 2.5, 4.5, 1.7], dtype=object), 2), (array([7.3, 2.9, 6.3, 1.8], dtype=object), 2), (array([6.7, 2.5, 5.8, 1.8], dtype=object), 2), (array([7.2, 3.6, 6.1, 2.5], dtype=object), 2), (array([6.5, 3.2, 5.1, 2.0], dtype=object), 2), (array([6.4, 2.7, 5.3, 1.9], dtype=object), 2), (array([6.8, 3.0, 5.5, 2.1], dtype=object), 2), (array([5.7, 2.5, 5.0, 2.0], dtype=object), 2), (array([5.8, 2.8, 5.1, 2.4], dtype=object), 2), (array([6.4, 3.2, 5.3, 2.3], dtype=object), 2), (array([6.5, 3.0, 5.5, 1.8], dtype=object), 2), (array([7.7, 3.8, 6.7, 2.2], dtype=object), 2), (array([7.7, 2.6, 6.9, 2.3], dtype=object), 2), (array([6.0, 2.2, 5.0, 1.5], dtype=object), 2), (array([6.9, 3.2, 5.7, 2.3], dtype=object), 2), (array([5.6, 2.8, 4.9, 2.0], dtype=object), 2), (array([7.7, 2.8, 6.7, 2.0], dtype=object), 2), (array([6.3, 2.7, 4.9, 1.8], dtype=object), 2), (array([6.7, 3.3, 5.7, 2.1], dtype=object), 2), (array([7.2, 3.2, 6.0, 1.8], dtype=object), 2), (array([6.2, 2.8, 4.8, 1.8], dtype=object), 2), (array([6.1, 3.0, 4.9, 1.8], dtype=object), 2), (array([6.4, 2.8, 5.6, 2.1], dtype=object), 2), (array([7.2, 3.0, 5.8, 1.6], dtype=object), 2), (array([7.4, 2.8, 6.1, 1.9], dtype=object), 2), (array([7.9, 3.8, 6.4, 2.0], dtype=object), 2), (array([6.4, 2.8, 5.6, 2.2], dtype=object), 2), (array([6.3, 2.8, 5.1, 1.5], dtype=object), 2), (array([6.1, 2.6, 5.6, 1.4], dtype=object), 2), (array([7.7, 3.0, 6.1, 2.3], dtype=object), 2), (array([6.3, 3.4, 5.6, 2.4], dtype=object), 2), (array([6.4, 3.1, 5.5, 1.8], dtype=object), 2), (array([6.0, 3.0, 4.8, 1.8], dtype=object), 2), (array([6.9, 3.1, 5.4, 2.1], dtype=object), 2), (array([6.7, 3.1, 5.6, 2.4], dtype=object), 2), (array([6.9, 3.1, 5.1, 2.3], dtype=object), 2), (array([5.8, 2.7, 5.1, 1.9], dtype=object), 2), (array([6.8, 3.2, 5.9, 2.3], dtype=object), 2), (array([6.7, 3.3, 5.7, 2.5], dtype=object), 2), (array([6.7, 3.0, 5.2, 2.3], dtype=object), 2), (array([6.3, 2.5, 5.0, 1.9], dtype=object), 2), (array([6.5, 3.0, 5.2, 2.0], dtype=object), 2), (array([6.2, 3.4, 5.4, 2.3], dtype=object), 2), (array([5.9, 3.0, 5.1, 1.8], dtype=object), 2)]\n"
     ]
    }
   ],
   "source": [
    "print(len(X))\n",
    "print(len(y))\n",
    "z= list(zip(X,y))\n",
    "print(z)"
   ]
  },
  {
   "cell_type": "code",
   "execution_count": 108,
   "metadata": {},
   "outputs": [],
   "source": [
    "x1=[6.3,3.4,5.6,2.4]"
   ]
  },
  {
   "cell_type": "code",
   "execution_count": 109,
   "metadata": {},
   "outputs": [
    {
     "name": "stdout",
     "output_type": "stream",
     "text": [
      "[(array([4.9, 3.0, 1.4, 0.2], dtype=object), 0, 4.959838707054897), (array([4.7, 3.2, 1.3, 0.2], dtype=object), 0, 5.0921508225896055), (array([4.6, 3.1, 1.5, 0.2], dtype=object), 0, 4.962862077471023), (array([5.0, 3.6, 1.4, 0.2], dtype=object), 0, 4.920365840057017), (array([5.4, 3.9, 1.7, 0.4], dtype=object), 0, 4.502221673796171), (array([4.6, 3.4, 1.4, 0.3], dtype=object), 0, 4.993996395673508), (array([5.0, 3.4, 1.5, 0.2], dtype=object), 0, 4.831148931672465), (array([4.4, 2.9, 1.4, 0.2], dtype=object), 0, 5.132250968142536), (array([4.9, 3.1, 1.5, 0.1], dtype=object), 0, 4.914264950122245), (array([5.4, 3.7, 1.5, 0.2], dtype=object), 0, 4.748684028233506), (array([4.8, 3.4, 1.6, 0.2], dtype=object), 0, 4.805205510693585), (array([4.8, 3.0, 1.4, 0.1], dtype=object), 0, 5.033885179461287), (array([4.3, 3.0, 1.1, 0.1], dtype=object), 0, 5.449770637375485), (array([5.8, 4.0, 1.2, 0.2], dtype=object), 0, 4.980963762164908), (array([5.7, 4.4, 1.5, 0.4], dtype=object), 0, 4.708502946797421), (array([5.4, 3.9, 1.3, 0.4], dtype=object), 0, 4.852834223420372), (array([5.1, 3.5, 1.4, 0.3], dtype=object), 0, 4.8476798574163285), (array([5.7, 3.8, 1.7, 0.3], dtype=object), 0, 4.4877611344633745), (array([5.1, 3.8, 1.5, 0.3], dtype=object), 0, 4.777028364998475), (array([5.4, 3.4, 1.7, 0.2], dtype=object), 0, 4.567274898667694), (array([5.1, 3.7, 1.5, 0.4], dtype=object), 0, 4.726520919238589), (array([4.6, 3.6, 1.0, 0.2], dtype=object), 0, 5.378661543544081), (array([5.1, 3.3, 1.7, 0.5], dtype=object), 0, 4.502221673796171), (array([4.8, 3.4, 1.9, 0.2], dtype=object), 0, 4.558508528016592), (array([5.0, 3.0, 1.6, 0.2], dtype=object), 0, 4.763402145525821), (array([5.0, 3.4, 1.6, 0.4], dtype=object), 0, 4.657252408878007), (array([5.2, 3.5, 1.5, 0.2], dtype=object), 0, 4.782258880487337), (array([5.2, 3.4, 1.4, 0.2], dtype=object), 0, 4.867237409455182), (array([4.7, 3.2, 1.6, 0.2], dtype=object), 0, 4.841487374764081), (array([4.8, 3.1, 1.6, 0.2], dtype=object), 0, 4.814561246884288), (array([5.4, 3.4, 1.5, 0.4], dtype=object), 0, 4.649731175025067), (array([5.2, 4.1, 1.5, 0.1], dtype=object), 0, 4.878524367060187), (array([5.5, 4.2, 1.4, 0.2], dtype=object), 0, 4.874423042781576), (array([4.9, 3.1, 1.5, 0.1], dtype=object), 0, 4.914264950122245), (array([5.0, 3.2, 1.2, 0.2], dtype=object), 0, 5.0921508225896055), (array([5.5, 3.5, 1.3, 0.2], dtype=object), 0, 4.896937818678118), (array([4.9, 3.1, 1.5, 0.1], dtype=object), 0, 4.914264950122245), (array([4.4, 3.0, 1.3, 0.2], dtype=object), 0, 5.205766033928148), (array([5.1, 3.4, 1.5, 0.2], dtype=object), 0, 4.805205510693585), (array([5.0, 3.5, 1.3, 0.3], dtype=object), 0, 4.959838707054898), (array([4.5, 2.3, 1.3, 0.3], dtype=object), 0, 5.229722745997153), (array([4.4, 3.2, 1.3, 0.2], dtype=object), 0, 5.19422756528822), (array([5.0, 3.5, 1.6, 0.6], dtype=object), 0, 4.576024475459019), (array([5.1, 3.8, 1.9, 0.4], dtype=object), 0, 4.3920382511995495), (array([4.8, 3.0, 1.4, 0.3], dtype=object), 0, 4.945705207551295), (array([5.1, 3.8, 1.6, 0.2], dtype=object), 0, 4.737087712930804), (array([4.6, 3.2, 1.4, 0.2], dtype=object), 0, 5.0408332644514235), (array([5.3, 3.7, 1.5, 0.2], dtype=object), 0, 4.768647607026545), (array([5.0, 3.3, 1.4, 0.2], dtype=object), 0, 4.917316341257698), (array([7.0, 3.2, 4.7, 1.4], dtype=object), 1, 1.5297058540778352), (array([6.4, 3.2, 4.5, 1.5], dtype=object), 1, 1.4387494569938157), (array([6.9, 3.1, 4.9, 1.5], dtype=object), 1, 1.3228756555322951), (array([5.5, 2.3, 4.0, 1.3], dtype=object), 1, 2.370653918225939), (array([6.5, 2.8, 4.6, 1.5], dtype=object), 1, 1.4866068747318506), (array([5.7, 2.8, 4.5, 1.3], dtype=object), 1, 1.7720045146669348), (array([6.3, 3.3, 4.7, 1.6], dtype=object), 1, 1.2083045973594566), (array([4.9, 2.4, 3.3, 1.0], dtype=object), 1, 3.1953090617340907), (array([6.6, 2.9, 4.6, 1.3], dtype=object), 1, 1.5968719422671311), (array([5.2, 2.7, 3.9, 1.4], dtype=object), 1, 2.3643180835073774), (array([5.0, 2.0, 3.5, 1.0], dtype=object), 1, 3.1654383582688825), (array([5.9, 3.0, 4.2, 1.5], dtype=object), 1, 1.757839583124694), (array([6.0, 2.2, 4.0, 1.0], dtype=object), 1, 2.459674775249768), (array([6.1, 2.9, 4.7, 1.4], dtype=object), 1, 1.4491376746189435), (array([5.6, 2.9, 3.6, 1.3], dtype=object), 1, 2.439262183530093), (array([6.7, 3.1, 4.4, 1.4], dtype=object), 1, 1.640121946685672), (array([5.6, 3.0, 4.5, 1.5], dtype=object), 1, 1.634013463836819), (array([5.8, 2.7, 4.1, 1.0], dtype=object), 1, 2.2248595461286986), (array([6.2, 2.2, 4.5, 1.5], dtype=object), 1, 1.8627936010197153), (array([5.6, 2.5, 3.9, 1.1], dtype=object), 1, 2.424871130596428), (array([5.9, 3.2, 4.8, 1.8], dtype=object), 1, 1.0954451150103317), (array([6.1, 2.8, 4.0, 1.3], dtype=object), 1, 2.0420577856662137), (array([6.3, 2.5, 4.9, 1.5], dtype=object), 1, 1.4525839046333946), (array([6.1, 2.8, 4.7, 1.2], dtype=object), 1, 1.6278820596099706), (array([6.4, 2.9, 4.3, 1.3], dtype=object), 1, 1.7776388834631176), (array([6.6, 3.0, 4.4, 1.4], dtype=object), 1, 1.640121946685672), (array([6.8, 2.8, 4.8, 1.4], dtype=object), 1, 1.5), (array([6.7, 3.0, 5.0, 1.7], dtype=object), 1, 1.0816653826391966), (array([6.0, 2.9, 4.5, 1.5], dtype=object), 1, 1.5362291495737213), (array([5.7, 2.6, 3.5, 1.0], dtype=object), 1, 2.714774392099645), (array([5.5, 2.4, 3.8, 1.1], dtype=object), 1, 2.563201123595259), (array([5.5, 2.4, 3.7, 1.0], dtype=object), 1, 2.68514431641951), (array([5.8, 2.7, 3.9, 1.2], dtype=object), 1, 2.25166604983954), (array([6.0, 2.7, 5.1, 1.6], dtype=object), 1, 1.2124355652982137), (array([5.4, 3.0, 4.5, 1.5], dtype=object), 1, 1.7291616465790578), (array([6.0, 3.4, 4.5, 1.6], dtype=object), 1, 1.3928388277184116), (array([6.7, 3.1, 4.7, 1.5], dtype=object), 1, 1.367479433117734), (array([6.3, 2.3, 4.4, 1.3], dtype=object), 1, 1.9646882704388497), (array([5.6, 3.0, 4.1, 1.3], dtype=object), 1, 2.0273134932713295), (array([5.5, 2.5, 4.0, 1.3], dtype=object), 1, 2.284731931759172), (array([5.5, 2.6, 4.4, 1.2], dtype=object), 1, 2.0396078054371136), (array([6.1, 3.0, 4.6, 1.4], dtype=object), 1, 1.4832396974191326), (array([5.8, 2.6, 4.0, 1.2], dtype=object), 1, 2.211334438749598), (array([5.0, 2.3, 3.3, 1.0], dtype=object), 1, 3.185906464414798), (array([5.6, 2.7, 4.2, 1.3], dtype=object), 1, 2.037154878746336), (array([5.7, 3.0, 4.2, 1.2], dtype=object), 1, 1.9798989873223325), (array([5.7, 2.9, 4.2, 1.3], dtype=object), 1, 1.9442222095223574), (array([6.2, 2.9, 4.3, 1.3], dtype=object), 1, 1.7776388834631176), (array([5.1, 2.5, 3.0, 1.1], dtype=object), 1, 3.271085446759225), (array([5.7, 2.8, 4.1, 1.3], dtype=object), 1, 2.0445048300260873), (array([6.3, 3.3, 6.0, 2.5], dtype=object), 2, 0.42426406871192884), (array([5.8, 2.7, 5.1, 1.9], dtype=object), 2, 1.1135528725660042), (array([7.1, 3.0, 5.9, 2.1], dtype=object), 2, 0.9899494936611665), (array([6.3, 2.9, 5.6, 1.8], dtype=object), 2, 0.7810249675906653), (array([6.5, 3.0, 5.8, 2.2], dtype=object), 2, 0.529150262212918), (array([7.6, 3.0, 6.6, 2.1], dtype=object), 2, 1.7146428199482244), (array([4.9, 2.5, 4.5, 1.7], dtype=object), 2, 2.114237451186597), (array([7.3, 2.9, 6.3, 1.8], dtype=object), 2, 1.449137674618944), (array([6.7, 2.5, 5.8, 1.8], dtype=object), 2, 1.1704699910719625), (array([7.2, 3.6, 6.1, 2.5], dtype=object), 2, 1.053565375285274), (array([6.5, 3.2, 5.1, 2.0], dtype=object), 2, 0.7), (array([6.4, 2.7, 5.3, 1.9], dtype=object), 2, 0.9165151389911678), (array([6.8, 3.0, 5.5, 2.1], dtype=object), 2, 0.7141428428542849), (array([5.7, 2.5, 5.0, 2.0], dtype=object), 2, 1.2999999999999996), (array([5.8, 2.8, 5.1, 2.4], dtype=object), 2, 0.9273618495495705), (array([6.4, 3.2, 5.3, 2.3], dtype=object), 2, 0.3872983346207416), (array([6.5, 3.0, 5.5, 1.8], dtype=object), 2, 0.7549834435270748), (array([7.7, 3.8, 6.7, 2.2], dtype=object), 2, 1.8357559750685823), (array([7.7, 2.6, 6.9, 2.3], dtype=object), 2, 2.073644135332773), (array([6.0, 2.2, 5.0, 1.5], dtype=object), 2, 1.6431676725154978), (array([6.9, 3.2, 5.7, 2.3], dtype=object), 2, 0.6480740698407865), (array([5.6, 2.8, 4.9, 2.0], dtype=object), 2, 1.2247448713915887), (array([7.7, 2.8, 6.7, 2.0], dtype=object), 2, 1.9209372712298551), (array([6.3, 2.7, 4.9, 1.8], dtype=object), 2, 1.157583690279022), (array([6.7, 3.3, 5.7, 2.1], dtype=object), 2, 0.5196152422706635), (array([7.2, 3.2, 6.0, 1.8], dtype=object), 2, 1.170469991071963), (array([6.2, 2.8, 4.8, 1.8], dtype=object), 2, 1.1704699910719623), (array([6.1, 3.0, 4.9, 1.8], dtype=object), 2, 1.0246950765959593), (array([6.4, 2.8, 5.6, 2.1], dtype=object), 2, 0.6782329983125269), (array([7.2, 3.0, 5.8, 1.6], dtype=object), 2, 1.2845232578665131), (array([7.4, 2.8, 6.1, 1.9], dtype=object), 2, 1.4387494569938162), (array([7.9, 3.8, 6.4, 2.0], dtype=object), 2, 1.8761663039293723), (array([6.4, 2.8, 5.6, 2.2], dtype=object), 2, 0.640312423743285), (array([6.3, 2.8, 5.1, 1.5], dtype=object), 2, 1.1916375287812984), (array([6.1, 2.6, 5.6, 1.4], dtype=object), 2, 1.296148139681572), (array([7.7, 3.0, 6.1, 2.3], dtype=object), 2, 1.5427248620541516), (array([6.3, 3.4, 5.6, 2.4], dtype=object), 2, 0.0), (array([6.4, 3.1, 5.5, 1.8], dtype=object), 2, 0.6855654600401042), (array([6.0, 3.0, 4.8, 1.8], dtype=object), 2, 1.1180339887498945), (array([6.9, 3.1, 5.4, 2.1], dtype=object), 2, 0.761577310586391), (array([6.7, 3.1, 5.6, 2.4], dtype=object), 2, 0.5000000000000001), (array([6.9, 3.1, 5.1, 2.3], dtype=object), 2, 0.8426149773176362), (array([5.8, 2.7, 5.1, 1.9], dtype=object), 2, 1.1135528725660042), (array([6.8, 3.2, 5.9, 2.3], dtype=object), 2, 0.62449979983984), (array([6.7, 3.3, 5.7, 2.5], dtype=object), 2, 0.43588989435406783), (array([6.7, 3.0, 5.2, 2.3], dtype=object), 2, 0.6999999999999998), (array([6.3, 2.5, 5.0, 1.9], dtype=object), 2, 1.1916375287812984), (array([6.5, 3.0, 5.2, 2.0], dtype=object), 2, 0.7211102550927975), (array([6.2, 3.4, 5.4, 2.3], dtype=object), 2, 0.2449489742783171), (array([5.9, 3.0, 5.1, 1.8], dtype=object), 2, 0.9643650760992951)]\n"
     ]
    }
   ],
   "source": [
    "a= np.array(x1)\n",
    "for i in range(len(z)):\n",
    "    b= np.array(z[i][0])\n",
    "    dist = np.linalg.norm(a-b)\n",
    "    z[i]=z[i]+(dist,)\n",
    "print(z)\n",
    "z.sort(key=lambda x:x[2])"
   ]
  },
  {
   "cell_type": "code",
   "execution_count": 110,
   "metadata": {},
   "outputs": [
    {
     "name": "stdout",
     "output_type": "stream",
     "text": [
      "after sort\n",
      "[(array([6.3, 3.4, 5.6, 2.4], dtype=object), 2, 0.0), (array([6.2, 3.4, 5.4, 2.3], dtype=object), 2, 0.2449489742783171), (array([6.4, 3.2, 5.3, 2.3], dtype=object), 2, 0.3872983346207416), (array([6.3, 3.3, 6.0, 2.5], dtype=object), 2, 0.42426406871192884), (array([6.7, 3.3, 5.7, 2.5], dtype=object), 2, 0.43588989435406783), (array([6.7, 3.1, 5.6, 2.4], dtype=object), 2, 0.5000000000000001), (array([6.7, 3.3, 5.7, 2.1], dtype=object), 2, 0.5196152422706635), (array([6.5, 3.0, 5.8, 2.2], dtype=object), 2, 0.529150262212918), (array([6.8, 3.2, 5.9, 2.3], dtype=object), 2, 0.62449979983984), (array([6.4, 2.8, 5.6, 2.2], dtype=object), 2, 0.640312423743285), (array([6.9, 3.2, 5.7, 2.3], dtype=object), 2, 0.6480740698407865), (array([6.4, 2.8, 5.6, 2.1], dtype=object), 2, 0.6782329983125269), (array([6.4, 3.1, 5.5, 1.8], dtype=object), 2, 0.6855654600401042), (array([6.7, 3.0, 5.2, 2.3], dtype=object), 2, 0.6999999999999998), (array([6.5, 3.2, 5.1, 2.0], dtype=object), 2, 0.7), (array([6.8, 3.0, 5.5, 2.1], dtype=object), 2, 0.7141428428542849), (array([6.5, 3.0, 5.2, 2.0], dtype=object), 2, 0.7211102550927975), (array([6.5, 3.0, 5.5, 1.8], dtype=object), 2, 0.7549834435270748), (array([6.9, 3.1, 5.4, 2.1], dtype=object), 2, 0.761577310586391), (array([6.3, 2.9, 5.6, 1.8], dtype=object), 2, 0.7810249675906653), (array([6.9, 3.1, 5.1, 2.3], dtype=object), 2, 0.8426149773176362), (array([6.4, 2.7, 5.3, 1.9], dtype=object), 2, 0.9165151389911678), (array([5.8, 2.8, 5.1, 2.4], dtype=object), 2, 0.9273618495495705), (array([5.9, 3.0, 5.1, 1.8], dtype=object), 2, 0.9643650760992951), (array([7.1, 3.0, 5.9, 2.1], dtype=object), 2, 0.9899494936611665), (array([6.1, 3.0, 4.9, 1.8], dtype=object), 2, 1.0246950765959593), (array([7.2, 3.6, 6.1, 2.5], dtype=object), 2, 1.053565375285274), (array([6.7, 3.0, 5.0, 1.7], dtype=object), 1, 1.0816653826391966), (array([5.9, 3.2, 4.8, 1.8], dtype=object), 1, 1.0954451150103317), (array([5.8, 2.7, 5.1, 1.9], dtype=object), 2, 1.1135528725660042), (array([5.8, 2.7, 5.1, 1.9], dtype=object), 2, 1.1135528725660042), (array([6.0, 3.0, 4.8, 1.8], dtype=object), 2, 1.1180339887498945), (array([6.3, 2.7, 4.9, 1.8], dtype=object), 2, 1.157583690279022), (array([6.2, 2.8, 4.8, 1.8], dtype=object), 2, 1.1704699910719623), (array([6.7, 2.5, 5.8, 1.8], dtype=object), 2, 1.1704699910719625), (array([7.2, 3.2, 6.0, 1.8], dtype=object), 2, 1.170469991071963), (array([6.3, 2.8, 5.1, 1.5], dtype=object), 2, 1.1916375287812984), (array([6.3, 2.5, 5.0, 1.9], dtype=object), 2, 1.1916375287812984), (array([6.3, 3.3, 4.7, 1.6], dtype=object), 1, 1.2083045973594566), (array([6.0, 2.7, 5.1, 1.6], dtype=object), 1, 1.2124355652982137), (array([5.6, 2.8, 4.9, 2.0], dtype=object), 2, 1.2247448713915887), (array([7.2, 3.0, 5.8, 1.6], dtype=object), 2, 1.2845232578665131), (array([6.1, 2.6, 5.6, 1.4], dtype=object), 2, 1.296148139681572), (array([5.7, 2.5, 5.0, 2.0], dtype=object), 2, 1.2999999999999996), (array([6.9, 3.1, 4.9, 1.5], dtype=object), 1, 1.3228756555322951), (array([6.7, 3.1, 4.7, 1.5], dtype=object), 1, 1.367479433117734), (array([6.0, 3.4, 4.5, 1.6], dtype=object), 1, 1.3928388277184116), (array([6.4, 3.2, 4.5, 1.5], dtype=object), 1, 1.4387494569938157), (array([7.4, 2.8, 6.1, 1.9], dtype=object), 2, 1.4387494569938162), (array([6.1, 2.9, 4.7, 1.4], dtype=object), 1, 1.4491376746189435), (array([7.3, 2.9, 6.3, 1.8], dtype=object), 2, 1.449137674618944), (array([6.3, 2.5, 4.9, 1.5], dtype=object), 1, 1.4525839046333946), (array([6.1, 3.0, 4.6, 1.4], dtype=object), 1, 1.4832396974191326), (array([6.5, 2.8, 4.6, 1.5], dtype=object), 1, 1.4866068747318506), (array([6.8, 2.8, 4.8, 1.4], dtype=object), 1, 1.5), (array([7.0, 3.2, 4.7, 1.4], dtype=object), 1, 1.5297058540778352), (array([6.0, 2.9, 4.5, 1.5], dtype=object), 1, 1.5362291495737213), (array([7.7, 3.0, 6.1, 2.3], dtype=object), 2, 1.5427248620541516), (array([6.6, 2.9, 4.6, 1.3], dtype=object), 1, 1.5968719422671311), (array([6.1, 2.8, 4.7, 1.2], dtype=object), 1, 1.6278820596099706), (array([5.6, 3.0, 4.5, 1.5], dtype=object), 1, 1.634013463836819), (array([6.7, 3.1, 4.4, 1.4], dtype=object), 1, 1.640121946685672), (array([6.6, 3.0, 4.4, 1.4], dtype=object), 1, 1.640121946685672), (array([6.0, 2.2, 5.0, 1.5], dtype=object), 2, 1.6431676725154978), (array([7.6, 3.0, 6.6, 2.1], dtype=object), 2, 1.7146428199482244), (array([5.4, 3.0, 4.5, 1.5], dtype=object), 1, 1.7291616465790578), (array([5.9, 3.0, 4.2, 1.5], dtype=object), 1, 1.757839583124694), (array([5.7, 2.8, 4.5, 1.3], dtype=object), 1, 1.7720045146669348), (array([6.4, 2.9, 4.3, 1.3], dtype=object), 1, 1.7776388834631176), (array([6.2, 2.9, 4.3, 1.3], dtype=object), 1, 1.7776388834631176), (array([7.7, 3.8, 6.7, 2.2], dtype=object), 2, 1.8357559750685823), (array([6.2, 2.2, 4.5, 1.5], dtype=object), 1, 1.8627936010197153), (array([7.9, 3.8, 6.4, 2.0], dtype=object), 2, 1.8761663039293723), (array([7.7, 2.8, 6.7, 2.0], dtype=object), 2, 1.9209372712298551), (array([5.7, 2.9, 4.2, 1.3], dtype=object), 1, 1.9442222095223574), (array([6.3, 2.3, 4.4, 1.3], dtype=object), 1, 1.9646882704388497), (array([5.7, 3.0, 4.2, 1.2], dtype=object), 1, 1.9798989873223325), (array([5.6, 3.0, 4.1, 1.3], dtype=object), 1, 2.0273134932713295), (array([5.6, 2.7, 4.2, 1.3], dtype=object), 1, 2.037154878746336), (array([5.5, 2.6, 4.4, 1.2], dtype=object), 1, 2.0396078054371136), (array([6.1, 2.8, 4.0, 1.3], dtype=object), 1, 2.0420577856662137), (array([5.7, 2.8, 4.1, 1.3], dtype=object), 1, 2.0445048300260873), (array([7.7, 2.6, 6.9, 2.3], dtype=object), 2, 2.073644135332773), (array([4.9, 2.5, 4.5, 1.7], dtype=object), 2, 2.114237451186597), (array([5.8, 2.6, 4.0, 1.2], dtype=object), 1, 2.211334438749598), (array([5.8, 2.7, 4.1, 1.0], dtype=object), 1, 2.2248595461286986), (array([5.8, 2.7, 3.9, 1.2], dtype=object), 1, 2.25166604983954), (array([5.5, 2.5, 4.0, 1.3], dtype=object), 1, 2.284731931759172), (array([5.2, 2.7, 3.9, 1.4], dtype=object), 1, 2.3643180835073774), (array([5.5, 2.3, 4.0, 1.3], dtype=object), 1, 2.370653918225939), (array([5.6, 2.5, 3.9, 1.1], dtype=object), 1, 2.424871130596428), (array([5.6, 2.9, 3.6, 1.3], dtype=object), 1, 2.439262183530093), (array([6.0, 2.2, 4.0, 1.0], dtype=object), 1, 2.459674775249768), (array([5.5, 2.4, 3.8, 1.1], dtype=object), 1, 2.563201123595259), (array([5.5, 2.4, 3.7, 1.0], dtype=object), 1, 2.68514431641951), (array([5.7, 2.6, 3.5, 1.0], dtype=object), 1, 2.714774392099645), (array([5.0, 2.0, 3.5, 1.0], dtype=object), 1, 3.1654383582688825), (array([5.0, 2.3, 3.3, 1.0], dtype=object), 1, 3.185906464414798), (array([4.9, 2.4, 3.3, 1.0], dtype=object), 1, 3.1953090617340907), (array([5.1, 2.5, 3.0, 1.1], dtype=object), 1, 3.271085446759225), (array([5.1, 3.8, 1.9, 0.4], dtype=object), 0, 4.3920382511995495), (array([5.7, 3.8, 1.7, 0.3], dtype=object), 0, 4.4877611344633745), (array([5.4, 3.9, 1.7, 0.4], dtype=object), 0, 4.502221673796171), (array([5.1, 3.3, 1.7, 0.5], dtype=object), 0, 4.502221673796171), (array([4.8, 3.4, 1.9, 0.2], dtype=object), 0, 4.558508528016592), (array([5.4, 3.4, 1.7, 0.2], dtype=object), 0, 4.567274898667694), (array([5.0, 3.5, 1.6, 0.6], dtype=object), 0, 4.576024475459019), (array([5.4, 3.4, 1.5, 0.4], dtype=object), 0, 4.649731175025067), (array([5.0, 3.4, 1.6, 0.4], dtype=object), 0, 4.657252408878007), (array([5.7, 4.4, 1.5, 0.4], dtype=object), 0, 4.708502946797421), (array([5.1, 3.7, 1.5, 0.4], dtype=object), 0, 4.726520919238589), (array([5.1, 3.8, 1.6, 0.2], dtype=object), 0, 4.737087712930804), (array([5.4, 3.7, 1.5, 0.2], dtype=object), 0, 4.748684028233506), (array([5.0, 3.0, 1.6, 0.2], dtype=object), 0, 4.763402145525821), (array([5.3, 3.7, 1.5, 0.2], dtype=object), 0, 4.768647607026545), (array([5.1, 3.8, 1.5, 0.3], dtype=object), 0, 4.777028364998475), (array([5.2, 3.5, 1.5, 0.2], dtype=object), 0, 4.782258880487337), (array([4.8, 3.4, 1.6, 0.2], dtype=object), 0, 4.805205510693585), (array([5.1, 3.4, 1.5, 0.2], dtype=object), 0, 4.805205510693585), (array([4.8, 3.1, 1.6, 0.2], dtype=object), 0, 4.814561246884288), (array([5.0, 3.4, 1.5, 0.2], dtype=object), 0, 4.831148931672465), (array([4.7, 3.2, 1.6, 0.2], dtype=object), 0, 4.841487374764081), (array([5.1, 3.5, 1.4, 0.3], dtype=object), 0, 4.8476798574163285), (array([5.4, 3.9, 1.3, 0.4], dtype=object), 0, 4.852834223420372), (array([5.2, 3.4, 1.4, 0.2], dtype=object), 0, 4.867237409455182), (array([5.5, 4.2, 1.4, 0.2], dtype=object), 0, 4.874423042781576), (array([5.2, 4.1, 1.5, 0.1], dtype=object), 0, 4.878524367060187), (array([5.5, 3.5, 1.3, 0.2], dtype=object), 0, 4.896937818678118), (array([4.9, 3.1, 1.5, 0.1], dtype=object), 0, 4.914264950122245), (array([4.9, 3.1, 1.5, 0.1], dtype=object), 0, 4.914264950122245), (array([4.9, 3.1, 1.5, 0.1], dtype=object), 0, 4.914264950122245), (array([5.0, 3.3, 1.4, 0.2], dtype=object), 0, 4.917316341257698), (array([5.0, 3.6, 1.4, 0.2], dtype=object), 0, 4.920365840057017), (array([4.8, 3.0, 1.4, 0.3], dtype=object), 0, 4.945705207551295), (array([4.9, 3.0, 1.4, 0.2], dtype=object), 0, 4.959838707054897), (array([5.0, 3.5, 1.3, 0.3], dtype=object), 0, 4.959838707054898), (array([4.6, 3.1, 1.5, 0.2], dtype=object), 0, 4.962862077471023), (array([5.8, 4.0, 1.2, 0.2], dtype=object), 0, 4.980963762164908), (array([4.6, 3.4, 1.4, 0.3], dtype=object), 0, 4.993996395673508), (array([4.8, 3.0, 1.4, 0.1], dtype=object), 0, 5.033885179461287), (array([4.6, 3.2, 1.4, 0.2], dtype=object), 0, 5.0408332644514235), (array([4.7, 3.2, 1.3, 0.2], dtype=object), 0, 5.0921508225896055), (array([5.0, 3.2, 1.2, 0.2], dtype=object), 0, 5.0921508225896055), (array([4.4, 2.9, 1.4, 0.2], dtype=object), 0, 5.132250968142536), (array([4.4, 3.2, 1.3, 0.2], dtype=object), 0, 5.19422756528822), (array([4.4, 3.0, 1.3, 0.2], dtype=object), 0, 5.205766033928148), (array([4.5, 2.3, 1.3, 0.3], dtype=object), 0, 5.229722745997153), (array([4.6, 3.6, 1.0, 0.2], dtype=object), 0, 5.378661543544081), (array([4.3, 3.0, 1.1, 0.1], dtype=object), 0, 5.449770637375485)]\n",
      "\n",
      "\n",
      "- - Result - -  1.5\n"
     ]
    }
   ],
   "source": [
    "print(\"after sort\")\n",
    "print(z)\n",
    "count=0\n",
    "k = 100\n",
    "for i in range(k):\n",
    "    count+=(z[i][1])\n",
    "print(\"\\n\")\n",
    "print(\"- - Result - - \",count/k)"
   ]
  }
 ],
 "metadata": {
  "kernelspec": {
   "display_name": "Python 3",
   "language": "python",
   "name": "python3"
  },
  "language_info": {
   "codemirror_mode": {
    "name": "ipython",
    "version": 3
   },
   "file_extension": ".py",
   "mimetype": "text/x-python",
   "name": "python",
   "nbconvert_exporter": "python",
   "pygments_lexer": "ipython3",
   "version": "3.8.3"
  }
 },
 "nbformat": 4,
 "nbformat_minor": 4
}