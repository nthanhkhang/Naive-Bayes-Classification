{
 "cells": [
  {
   "cell_type": "code",
   "execution_count": null,
   "metadata": {},
   "outputs": [],
   "source": [
    "#Thuật toán sử dụng\n",
    "# Logistic Regression(Hồi quy tuyến tính)\n",
    "# Decision Tree(Cây)\n",
    "# Multinomial NB(Đa thức NB)\n",
    "# SVM"
   ]
  },
  {
   "cell_type": "code",
   "execution_count": 54,
   "metadata": {},
   "outputs": [],
   "source": [
    "import pandas as pd\n",
    "import numpy as np"
   ]
  },
  {
   "cell_type": "code",
   "execution_count": 55,
   "metadata": {},
   "outputs": [],
   "source": [
    "from sklearn.naive_bayes import MultinomialNB\n",
    "from sklearn.model_selection import train_test_split, cross_val_score\n",
    "from sklearn.metrics import confusion_matrix, accuracy_score, classification_report"
   ]
  },
  {
   "cell_type": "code",
   "execution_count": 56,
   "metadata": {},
   "outputs": [
    {
     "name": "stdout",
     "output_type": "stream",
     "text": [
      "Total number of rows in dataset: 21\n",
      "\n",
      "   Day  Month  Year  Humidity  Max Temperature  Min Temperature  Rainfall  \\\n",
      "0    1     12  2020        77             26.7             12.9         0   \n",
      "1    2     12  2020        76             26.0             12.9         0   \n",
      "2    3     12  2020        73             27.5             14.5         0   \n",
      "3    4     12  2020        71             27.2             15.8         0   \n",
      "4    5     12  2020        75             27.8             15.4         0   \n",
      "\n",
      "   Sea Level Pressure  Sunshine  Wind Speed  Cloud  \n",
      "0              1016.9       8.4         0.0      0  \n",
      "1              1016.4       8.4         0.0      0  \n",
      "2              1014.8       7.8         2.0      1  \n",
      "3              1015.9       6.4         5.0      1  \n",
      "4              1016.1       8.0         3.5      1  \n"
     ]
    }
   ],
   "source": [
    "dataset = pd.read_csv('Data/weather.csv')\n",
    "print (\"Total number of rows in dataset: {}\\n\".format(len(dataset)))\n",
    "print(dataset.head())"
   ]
  },
  {
   "cell_type": "code",
   "execution_count": 57,
   "metadata": {},
   "outputs": [],
   "source": [
    "features = ['Day','Month','Year','Humidity','Max Temperature','Min Temperature',\n",
    "            'Rainfall','Sea Level Pressure','Sunshine','Wind Speed']\n",
    "target = 'Cloud'\n",
    "\n",
    "x_train, x_test, y_train, y_test = train_test_split(dataset[features], dataset[target],\n",
    "                                                    train_size=0.7, test_size=0.3, shuffle=False)"
   ]
  },
  {
   "cell_type": "code",
   "execution_count": 58,
   "metadata": {},
   "outputs": [
    {
     "name": "stdout",
     "output_type": "stream",
     "text": [
      "X_train: 14, Y_train: 7\n",
      "X_train: 14, Y_train: 7\n"
     ]
    }
   ],
   "source": [
    "print(\"X_train: {}, Y_train: {}\".format(len(x_train), len(x_test)))\n",
    "print(\"X_train: {}, Y_train: {}\".format(len(y_train), len(y_test)))"
   ]
  },
  {
   "cell_type": "code",
   "execution_count": 59,
   "metadata": {},
   "outputs": [
    {
     "data": {
      "text/plain": [
       "MultinomialNB()"
      ]
     },
     "execution_count": 59,
     "metadata": {},
     "output_type": "execute_result"
    }
   ],
   "source": [
    "model = MultinomialNB(alpha=1.0, class_prior=None, fit_prior=True)\n",
    "model.fit(x_train, y_train)"
   ]
  },
  {
   "cell_type": "code",
   "execution_count": 60,
   "metadata": {},
   "outputs": [
    {
     "name": "stdout",
     "output_type": "stream",
     "text": [
      "Showing Performance Metrics for Naive Bayes Multinomial\n",
      "\n",
      "Training Accuracy: 0.9285714285714286\n",
      "Testing Accuracy: 1.0\n"
     ]
    }
   ],
   "source": [
    "print(\"Showing Performance Metrics for Naive Bayes Multinomial\\n\")\n",
    "print (\"Training Accuracy: {}\".format(model.score(x_train, y_train)))\n",
    "predicted = model.predict(x_test)\n",
    "print (\"Testing Accuracy: {}\".format(accuracy_score(y_test, predicted)))"
   ]
  },
  {
   "cell_type": "code",
   "execution_count": 71,
   "metadata": {},
   "outputs": [
    {
     "name": "stdout",
     "output_type": "stream",
     "text": [
      "Cross Validation Accuracy: \n",
      "\n",
      "Accuracy using 10 folds: \n",
      "[1.  0.5 1.  1.  0.5 1.  1.  1.  0. ]\n"
     ]
    },
    {
     "name": "stderr",
     "output_type": "stream",
     "text": [
      "C:\\Users\\USER\\anaconda3\\lib\\site-packages\\sklearn\\model_selection\\_split.py:670: UserWarning: The least populated class in y has only 5 members, which is less than n_splits=9.\n",
      "  warnings.warn((\"The least populated class in y has only %d\"\n"
     ]
    }
   ],
   "source": [
    "print(\"Cross Validation Accuracy: \\n\")\n",
    "cv_accuracy = cross_val_score(estimator=model, X=x_train, y=y_train, cv=9)\n",
    "print(\"Accuracy using 10 folds: \")\n",
    "print(cv_accuracy)"
   ]
  },
  {
   "cell_type": "code",
   "execution_count": 72,
   "metadata": {},
   "outputs": [
    {
     "name": "stdout",
     "output_type": "stream",
     "text": [
      "Mean accuracy: 0.7777777777777778\n",
      "Standard Deviation: 0.3424674446093876\n"
     ]
    }
   ],
   "source": [
    "print(\"Mean accuracy: {}\".format(cv_accuracy.mean()))\n",
    "print(\"Standard Deviation: {}\".format(cv_accuracy.std()))"
   ]
  },
  {
   "cell_type": "code",
   "execution_count": 66,
   "metadata": {},
   "outputs": [
    {
     "name": "stdout",
     "output_type": "stream",
     "text": [
      "Confusion Matrix for Naive Bayes Multinomial\n",
      "\n",
      "[[7 0 0]\n",
      " [0 0 0]\n",
      " [0 0 0]]\n"
     ]
    }
   ],
   "source": [
    "print(\"Confusion Matrix for Naive Bayes Multinomial\\n\")\n",
    "labels = [0, 1, 2]\n",
    "cm = confusion_matrix(y_test, predicted, labels=labels)\n",
    "print(cm)"
   ]
  },
  {
   "cell_type": "code",
   "execution_count": 67,
   "metadata": {},
   "outputs": [
    {
     "name": "stdout",
     "output_type": "stream",
     "text": [
      "Precision, Recall and f-1 Scores for Naive Bayes Multinomial\n",
      "\n",
      "              precision    recall  f1-score   support\n",
      "\n",
      "           0       1.00      1.00      1.00         7\n",
      "\n",
      "    accuracy                           1.00         7\n",
      "   macro avg       1.00      1.00      1.00         7\n",
      "weighted avg       1.00      1.00      1.00         7\n",
      "\n"
     ]
    }
   ],
   "source": [
    "print('Precision, Recall and f-1 Scores for Naive Bayes Multinomial\\n')\n",
    "print(classification_report(y_test, predicted))"
   ]
  },
  {
   "cell_type": "code",
   "execution_count": null,
   "metadata": {},
   "outputs": [],
   "source": []
  }
 ],
 "metadata": {
  "kernelspec": {
   "display_name": "Python 3",
   "language": "python",
   "name": "python3"
  },
  "language_info": {
   "codemirror_mode": {
    "name": "ipython",
    "version": 3
   },
   "file_extension": ".py",
   "mimetype": "text/x-python",
   "name": "python",
   "nbconvert_exporter": "python",
   "pygments_lexer": "ipython3",
   "version": "3.8.3"
  }
 },
 "nbformat": 4,
 "nbformat_minor": 4
}
